{
 "cells": [
  {
   "cell_type": "code",
   "execution_count": 1,
   "metadata": {},
   "outputs": [
    {
     "name": "stderr",
     "output_type": "stream",
     "text": [
      "2024-04-07 17:44:14.268606: I tensorflow/core/platform/cpu_feature_guard.cc:182] This TensorFlow binary is optimized to use available CPU instructions in performance-critical operations.\n",
      "To enable the following instructions: AVX2 AVX512F FMA, in other operations, rebuild TensorFlow with the appropriate compiler flags.\n",
      "2024-04-07 17:44:15.036389: W tensorflow/compiler/tf2tensorrt/utils/py_utils.cc:38] TF-TRT Warning: Could not find TensorRT\n"
     ]
    },
    {
     "name": "stdout",
     "output_type": "stream",
     "text": [
      "WARNING:tensorflow:From /home/mdupuy/.local/lib/python3.8/site-packages/tensorflow/python/compat/v2_compat.py:107: disable_resource_variables (from tensorflow.python.ops.variable_scope) is deprecated and will be removed in a future version.\n",
      "Instructions for updating:\n",
      "non-resource variables are not supported in the long term\n"
     ]
    }
   ],
   "source": [
    "import os \n",
    "import torch\n",
    "from data_loaders import dataset_loader\n",
    "from sklearn.preprocessing import scale\n",
    "from functions import *\n",
    "from sensibility_structure import * \n",
    "import matplotlib.pyplot as plt\n",
    "from mDAE_function import * "
   ]
  },
  {
   "cell_type": "code",
   "execution_count": 2,
   "metadata": {},
   "outputs": [],
   "source": [
    "os.environ[\"CUDA_VISIBLE_DEVICES\"]=\"6\"\n",
    "device = torch.device(\"cuda\" if torch.cuda.is_available() else \"cpu\")"
   ]
  },
  {
   "cell_type": "markdown",
   "metadata": {},
   "source": [
    "# How to use the mDAE algorithm ?"
   ]
  },
  {
   "cell_type": "markdown",
   "metadata": {},
   "source": [
    "In this notebook we present the different steps to use our method of missing data imputation : the mDAE. To make the notebook coherent and useful we add a part on missing data artificially generated.\n",
    "\n",
    "<b>Warning :  you do not need to have a true dataset (without missing data) to use mDAE algorithm. </b>\n",
    "We load in this exemple a complete dataset because it is a dataset that everyone can load."
   ]
  },
  {
   "cell_type": "markdown",
   "metadata": {},
   "source": [
    "## The data "
   ]
  },
  {
   "cell_type": "markdown",
   "metadata": {},
   "source": [
    "We construct this exemple around dataset downloaded on the UCI website. Pytorch is used in the code.\n",
    "In the file data_loaders.py there is a function \"dataset_loader\" that we use to load the dataset in a folder named \"datasets\". "
   ]
  },
  {
   "cell_type": "code",
   "execution_count": 3,
   "metadata": {},
   "outputs": [],
   "source": [
    "if not os.path.isdir(\"datasets\"):\n",
    "    os.mkdir(\"datasets\")\n",
    "\n",
    "name_data = \"breast_cancer_diagnostic\"\n",
    "\n",
    "ground_truth = scale(dataset_loader(name_data)) # \"wine\" can be replaced with any of the datasets\n",
    "                                             # supported by dataset_loader (see data_loaders.py)\n",
    "#ground_truth = dataset_loader(\"libras\")\n",
    "X_true = torch.from_numpy(ground_truth)\n",
    "X_true = X_true.float()\n",
    "X_true = X_true.to(device)"
   ]
  },
  {
   "cell_type": "markdown",
   "metadata": {},
   "source": [
    "Now we can put artificially missing data. In the article we propose 4 ways to generate missing data. We choose to use the same generation strategy detailed in https://github.com/BorisMuzellec/MissingDataOT for MAR and MNAR. \n",
    "For each mechanism you need to initialize some variables. The explanation of MAR and MNAR are in github cited previously. \n",
    "Overall you need the percent of missing data to put in the dataset, the number of columns and the number of rows. "
   ]
  },
  {
   "cell_type": "markdown",
   "metadata": {},
   "source": [
    "The outputs of these functions are : \n",
    "<ul>\n",
    "  <li> <b>x</b> : the dataset pre-imputed by 0 (mean of the columns). The neural networks do not take datasets with NA's as input so we need to make pre-imputation </li>\n",
    "  <li> <b>nb_cases_na</b> : number of elements chosen to be NA </li>\n",
    "  <li> <b>ind_rows_na</b> and <b>ind_columns_na</b> : the indices of the two list at the same position give the position of missing data in <b>x</b> </li>\n",
    "  <li> <b>list_no_na_col</b> : each row of this tab give the position of an element that have not be chosen to be NA </li>\n",
    "</ul>"
   ]
  },
  {
   "cell_type": "code",
   "execution_count": 4,
   "metadata": {},
   "outputs": [],
   "source": [
    "version_NA = \"MCAR\" #choose the kind of missing data you have to generate \n",
    "m = 0.2 #percent of missing data generated \n",
    "nb_col = X_true.size(1) \n",
    "nb_rows = X_true.size(0)\n",
    "\n",
    "\n",
    "\n",
    "if version_NA == \"MCAR\" : \n",
    "    x, nb_cases_na, ind_rows_na, ind_columns_na, list_no_na_col = missing_data_MCAR(X_true,m,nb_col,nb_rows) #function implemented in functions.py \n",
    "\n",
    "if version_NA == \"MAR\":\n",
    "    x, nb_cases_na, ind_rows_na, ind_columns_na, list_no_na_col = missing_data_MAR(X_true, m, prop_var, nb_col, nb_rows) #function implemented in functions.py \n",
    "\n",
    "if version_NA == \"MNAR\" : \n",
    "    x, nb_cases_na, ind_rows_na, ind_columns_na, list_no_na_col = missing_data_MNAR(X_true, m, prop_var, nb_col, nb_rows, exclude_inputs = True) #function implemented in functions.py \n",
    "\n",
    "if version_NA == \"blocks\" : \n",
    "    x, nb_cases_na, ind_rows_na, ind_columns_na, list_no_na_col = missing_data_blocks(X_true, m, taille_block, nb_col, nb_rows) #function implemented in functions.py "
   ]
  },
  {
   "cell_type": "markdown",
   "metadata": {},
   "source": [
    "## Choice of the AE structure "
   ]
  },
  {
   "cell_type": "markdown",
   "metadata": {},
   "source": [
    "We propose in this notebook a procedure to select the best structure of the AE that will suits the best for the dataset. We propose 6 structures like in the article to compare them. \n",
    "The first two ones are undercomplete structures and the four next ones are overcomplete. \n",
    "\n",
    "In the last four you can find different number of nodes and layers. \n",
    "\n",
    "Warning : undercomplete structure may not function on small datasets (change the number of layer and nodes in the functions_structure.py file)"
   ]
  },
  {
   "cell_type": "code",
   "execution_count": 5,
   "metadata": {},
   "outputs": [],
   "source": [
    "#parameters for structure choice \n",
    "grid_mu = [0.05,0.1,0.2,0.3,0.4,0.5] #see in the article mu is an hyper parameter optimized in the mDAE prodedure\n",
    "nb_mu = len(grid_mu)\n",
    "nb_iter = 1 #number of repetitions to optimize mu \n",
    "    \n",
    "prop_data_validation = 0.2 #proportion of the data used to optimize mu \n",
    "batch_size = 80\n",
    "learning_rate = 1e-3\n",
    "epochs_mdae = 600"
   ]
  },
  {
   "cell_type": "markdown",
   "metadata": {},
   "source": [
    "This function will load a .pt for each structure that is tested. \n",
    "This function is in sensibility_structure.py. "
   ]
  },
  {
   "cell_type": "code",
   "execution_count": 6,
   "metadata": {},
   "outputs": [
    {
     "name": "stdout",
     "output_type": "stream",
     "text": [
      "mdae struct1 \n",
      "mdae struct2 \n",
      "mdae struct3 \n",
      "mdae struct4 \n",
      "mdae struct5 \n",
      "mdae struct6 \n"
     ]
    }
   ],
   "source": [
    "sensibility_struct(x, grid_mu, nb_iter,nb_rows,nb_col,nb_cases_na,ind_rows_na,ind_columns_na,list_no_na_col,prop_data_validation, epochs_mdae,batch_size,learning_rate)"
   ]
  },
  {
   "cell_type": "markdown",
   "metadata": {},
   "source": [
    "## Results"
   ]
  },
  {
   "cell_type": "markdown",
   "metadata": {},
   "source": [
    "In this section we show the results to choose the best structure. "
   ]
  },
  {
   "cell_type": "code",
   "execution_count": 7,
   "metadata": {},
   "outputs": [],
   "source": [
    "#loading \n",
    "methods_bis = [\"struct1\", \"struct2\", \"struct3\", \"struct4\", \"struct5\", \"struct6\"]\n",
    "dicto = {me : [] for me in methods_bis }\n",
    "\n",
    "for me in methods_bis : \n",
    "    dicto[me].append(torch.load(f\"data_boxplot_mdae_{me}.pt\"))"
   ]
  },
  {
   "cell_type": "code",
   "execution_count": 8,
   "metadata": {},
   "outputs": [],
   "source": [
    "#to compute the error between reconstruction and true values, we load true values \n",
    "data_boxplot_true= torch.zeros([nb_cases_na])\n",
    "data_boxplot_true[:] = X_true[ind_rows_na,ind_columns_na]"
   ]
  },
  {
   "cell_type": "code",
   "execution_count": 9,
   "metadata": {},
   "outputs": [],
   "source": [
    "\n",
    "dicto_height = {me : [None,None] for me in methods_bis }\n",
    "\n",
    "\n",
    "for me in methods_bis : \n",
    "    a = torch.zeros([1])\n",
    "    a[0] = (1/data_boxplot_true.shape[0])*(torch.abs(data_boxplot_true -  dicto[me][0]).sum())\n",
    "\n",
    "    dicto_height[me][0] = torch.mean(a)\n",
    "    dicto_height[me][1] = torch.std(a)\n",
    "  \n",
    "dicto_height = torch.tensor(list(dicto_height.values()))\n",
    "    "
   ]
  },
  {
   "cell_type": "code",
   "execution_count": 10,
   "metadata": {},
   "outputs": [],
   "source": [
    "#names of the \n",
    "bars = [\"struct1\",\"struct2\",\"struct3\",\"struct4\",\"struct5\",\"struct6\"]"
   ]
  },
  {
   "cell_type": "code",
   "execution_count": 11,
   "metadata": {},
   "outputs": [
    {
     "name": "stderr",
     "output_type": "stream",
     "text": [
      "/home/mdupuy/.local/lib/python3.8/site-packages/matplotlib/axes/_axes.py:1185: RuntimeWarning: All-NaN axis encountered\n",
      "  miny = np.nanmin(masked_verts[..., 1])\n",
      "/home/mdupuy/.local/lib/python3.8/site-packages/matplotlib/axes/_axes.py:1186: RuntimeWarning: All-NaN axis encountered\n",
      "  maxy = np.nanmax(masked_verts[..., 1])\n",
      "/home/mdupuy/.local/lib/python3.8/site-packages/matplotlib/cbook/__init__.py:1335: RuntimeWarning: invalid value encountered in cast\n",
      "  return np.asarray(x, float)\n"
     ]
    },
    {
     "data": {
      "image/png": "[encoded data removed]",
      "text/plain": [
       "<Figure size 640x480 with 1 Axes>"
      ]
     },
     "metadata": {},
     "output_type": "display_data"
    }
   ],
   "source": [
    "y_pos = np.arange(len(bars))\n",
    "\n",
    "# Create bars\n",
    "plt.bar(y_pos, dicto_height[:,0], yerr=dicto_height[:,1], align='center', alpha=0.5, ecolor='black', capsize=10)\n",
    "\n",
    "# Add title and axis names\n",
    "plt.title(f'Mean MAE with {version_NA} on {name_data} dataset \\n for structure choice')\n",
    "plt.xlabel('methods')\n",
    "plt.ylabel('Mean MAE')\n",
    "\n",
    "plt.ylim(0,1)\n",
    "# Create names on the x-axis\n",
    "plt.xticks(y_pos, bars)\n",
    "\n",
    "# Show graphic\n",
    "plt.show()"
   ]
  },
  {
   "cell_type": "markdown",
   "metadata": {},
   "source": [
    "Now you can choose the number of the structure (between 0 and 5). "
   ]
  },
  {
   "cell_type": "markdown",
   "metadata": {},
   "source": [
    "If there is no true data available to test the sensibility of the structure on your data, we advise you to choose an overcomplete structure like the number 3. "
   ]
  },
  {
   "cell_type": "code",
   "execution_count": null,
   "metadata": {},
   "outputs": [],
   "source": [
    "number_structure = 4"
   ]
  },
  {
   "cell_type": "markdown",
   "metadata": {},
   "source": [
    "## Run the mDAE method"
   ]
  },
  {
   "cell_type": "markdown",
   "metadata": {},
   "source": [
    "Now we have the structure we can run the mDAE to have the imputation of the dataset. \n",
    "With the function mDAE you load one .pt. \"NA_reconstructed_from_mDAE.pt\" with the values computed by the mDAE at the position of <b>ind_rows_na</b> and <b>ind_columns_na</b>."
   ]
  },
  {
   "cell_type": "markdown",
   "metadata": {},
   "source": [
    "It is possible to change the parameters of the function mDAE. Usually we keep the same that the one chosen for the structure choice. "
   ]
  },
  {
   "cell_type": "code",
   "execution_count": null,
   "metadata": {},
   "outputs": [],
   "source": [
    "#parameters for structure choice \n",
    "grid_mu = [0.05,0.1,0.2,0.3,0.4,0.5] #see in the article mu is an hyper parameter optimized in the mDAE prodedure\n",
    "nb_mu = len(grid_mu)\n",
    "nb_iter = 1 #number of repetitions to optimize mu \n",
    "    \n",
    "prop_data_validation = 0.2 #proportion of the data used to optimize mu \n",
    "batch_size = 80\n",
    "learning_rate = 1e-3\n",
    "epochs_mdae = 600"
   ]
  },
  {
   "cell_type": "markdown",
   "metadata": {},
   "source": [
    "In \"x_imputed\" you can have the scaled dataset imputed with the mDAE method."
   ]
  },
  {
   "cell_type": "code",
   "execution_count": null,
   "metadata": {},
   "outputs": [],
   "source": [
    "x_imputed = mDAE(x, nb_col, nb_rows, nb_iter,prop_data_validation,list_no_na_col,ind_rows_na,ind_columns_na,epochs_mdae,batch_size,learning_rate, grid_mu,nb_cases_na,number_structure)"
   ]
  }
 ],
 "metadata": {
  "kernelspec": {
   "display_name": "Python 3",
   "language": "python",
   "name": "python3"
  },
  "language_info": {
   "codemirror_mode": {
    "name": "ipython",
    "version": 3
   },
   "file_extension": ".py",
   "mimetype": "text/x-python",
   "name": "python",
   "nbconvert_exporter": "python",
   "pygments_lexer": "ipython3",
   "version": "3.8.10"
  }
 },
 "nbformat": 4,
 "nbformat_minor": 2
}
