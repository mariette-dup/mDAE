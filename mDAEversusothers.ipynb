{
 "cells": [
  {
   "cell_type": "code",
   "execution_count": 1,
   "metadata": {},
   "outputs": [
    {
     "name": "stderr",
     "output_type": "stream",
     "text": [
      "2024-04-09 14:43:06.852664: I tensorflow/core/platform/cpu_feature_guard.cc:182] This TensorFlow binary is optimized to use available CPU instructions in performance-critical operations.\n",
      "To enable the following instructions: AVX2 AVX512F FMA, in other operations, rebuild TensorFlow with the appropriate compiler flags.\n",
      "2024-04-09 14:43:07.608838: W tensorflow/compiler/tf2tensorrt/utils/py_utils.cc:38] TF-TRT Warning: Could not find TensorRT\n"
     ]
    },
    {
     "name": "stdout",
     "output_type": "stream",
     "text": [
      "WARNING:tensorflow:From /home/mdupuy/.local/lib/python3.8/site-packages/tensorflow/python/compat/v2_compat.py:107: disable_resource_variables (from tensorflow.python.ops.variable_scope) is deprecated and will be removed in a future version.\n",
      "Instructions for updating:\n",
      "non-resource variables are not supported in the long term\n"
     ]
    },
    {
     "name": "stderr",
     "output_type": "stream",
     "text": [
      "/home/mdupuy/.local/lib/python3.8/site-packages/ot/backend.py:2998: UserWarning: To use TensorflowBackend, you need to activate the tensorflow numpy API. You can activate it by running: \n",
      "from tensorflow.python.ops.numpy_ops import np_config\n",
      "np_config.enable_numpy_behavior()\n",
      "  register_backend(TensorflowBackend())\n"
     ]
    }
   ],
   "source": [
    "import os \n",
    "import torch\n",
    "from data_loaders import dataset_loader\n",
    "from sklearn.preprocessing import scale\n",
    "from functions import *\n",
    "from sensibility_structure import * \n",
    "import matplotlib.pyplot as plt\n",
    "from mDAE_function import * \n",
    "from fancyimpute import KNN\n",
    "from softimpute import softimpute, cv_softimpute\n",
    "from sklearn.impute import IterativeImputer\n",
    "from sklearn.ensemble import ExtraTreesRegressor\n",
    "from gain import gain\n",
    "from imputers import OTimputer\n",
    "from run_tdm import run_TDM"
   ]
  },
  {
   "cell_type": "code",
   "execution_count": 2,
   "metadata": {},
   "outputs": [],
   "source": [
    "os.environ[\"CUDA_VISIBLE_DEVICES\"]=\"6\"\n",
    "device = torch.device(\"cuda\" if torch.cuda.is_available() else \"cpu\")"
   ]
  },
  {
   "cell_type": "markdown",
   "metadata": {},
   "source": [
    "# mDAE versus the other baselines"
   ]
  },
  {
   "cell_type": "markdown",
   "metadata": {},
   "source": [
    "In this notebook we give the methodolgy to get the same graphics than in our article. This notebook is composed of all the code needed of all the competitive methods tested in the article. \n",
    "To do this, we need a true dataset in which we will put artificial missing data. "
   ]
  },
  {
   "cell_type": "markdown",
   "metadata": {},
   "source": [
    "## Data and missing data"
   ]
  },
  {
   "cell_type": "code",
   "execution_count": 3,
   "metadata": {},
   "outputs": [],
   "source": [
    "if not os.path.isdir(\"datasets\"):\n",
    "    os.mkdir(\"datasets\")\n",
    "\n",
    "name_data = \"breast_cancer_diagnostic\"\n",
    "\n",
    "ground_truth = scale(dataset_loader(name_data)) # \"breast_cancer_diagnostic\" can be replaced with any of the datasets\n",
    "                                             # supported by dataset_loader (see data_loaders.py)\n",
    "#ground_truth = dataset_loader(\"libras\")\n",
    "X_true = torch.from_numpy(ground_truth)\n",
    "X_true = X_true.float()\n",
    "X_true = X_true.to(device)"
   ]
  },
  {
   "cell_type": "markdown",
   "metadata": {},
   "source": [
    "Now we can put artificially missing data. In the article we propose 4 ways to generate missing data. We choose to use the same generation strategy detailed in https://github.com/BorisMuzellec/MissingDataOT for MAR and MNAR. \n",
    "For each mechanism you need to initialize some variables. The explanation of MAR and MNAR are in github cited previously. \n",
    "Overall you need the percent of missing data to put in the dataset, the number of columns and the number of rows. "
   ]
  },
  {
   "cell_type": "markdown",
   "metadata": {},
   "source": [
    "The outputs of these functions are : \n",
    "<ul>\n",
    "  <li> <b>x</b> : the dataset pre-imputed by 0 (mean of the columns). The neural networks do not take datasets with NA's as input so we need to make pre-imputation </li>\n",
    "  <li> <b>nb_cases_na</b> : number of elements chosen to be NA </li>\n",
    "  <li> <b>ind_rows_na</b> and <b>ind_columns_na</b> : the indices of the two list at the same position give the position of missing data in <b>x</b> </li>\n",
    "  <li> <b>list_no_na_col</b> : each row of this tab give the position of an element that have not be chosen to be NA </li>\n",
    "</ul>"
   ]
  },
  {
   "cell_type": "code",
   "execution_count": 4,
   "metadata": {},
   "outputs": [],
   "source": [
    "version_NA = \"MCAR\" #choose the kind of missing data you have to generate \n",
    "m = 0.2 #percent of missing data generated \n",
    "nb_col = X_true.size(1) \n",
    "nb_rows = X_true.size(0)\n",
    "\n",
    "# x has the same values as X_true except a subset have been replace with 0 (pre-imputation of NA)\n",
    "\n",
    "if version_NA == \"MCAR\" : \n",
    "    x, nb_cases_na, ind_rows_na, ind_columns_na, list_no_na_col = missing_data_MCAR(X_true,m,nb_col,nb_rows)\n",
    "\n",
    "if version_NA == \"MAR\":\n",
    "    x, nb_cases_na, ind_rows_na, ind_columns_na, list_no_na_col = missing_data_MAR(X_true, m, prop_var, nb_col, nb_rows)\n",
    "\n",
    "if version_NA == \"MNAR\" : \n",
    "    x, nb_cases_na, ind_rows_na, ind_columns_na, list_no_na_col = missing_data_MNAR(X_true, m, prop_var, nb_col, nb_rows, exclude_inputs = True)\n",
    "\n",
    "if version_NA == \"blocks\" : \n",
    "    x, nb_cases_na, ind_rows_na, ind_columns_na, list_no_na_col = missing_data_blocks(X_true, m, taille_block, nb_col, nb_rows)"
   ]
  },
  {
   "cell_type": "code",
   "execution_count": 5,
   "metadata": {},
   "outputs": [],
   "source": [
    "# x_withNA has the same values as X_true except a subset have been replace with NaN\n",
    "x_withNA = x.clone()\n",
    "x_withNA[ind_rows_na,ind_columns_na]= torch.nan "
   ]
  },
  {
   "cell_type": "markdown",
   "metadata": {},
   "source": [
    "## Parameters"
   ]
  },
  {
   "cell_type": "markdown",
   "metadata": {},
   "source": [
    "Some parameters are repeated for the methods of deep learning. batch size, epochs and learning rate are equals. "
   ]
  },
  {
   "cell_type": "code",
   "execution_count": 6,
   "metadata": {},
   "outputs": [],
   "source": [
    "batch_size = 80 #change the value according to the size of the dataset \n",
    "learning_rate = 1e-3\n",
    "epochs_mdae = 1000"
   ]
  },
  {
   "cell_type": "markdown",
   "metadata": {},
   "source": [
    "For mdae and knn we propose a way to optimise the hyper parameters of each method. To do so we need a proportion of the data used for validation and a number of iterations needed to do the validation. "
   ]
  },
  {
   "cell_type": "code",
   "execution_count": 7,
   "metadata": {},
   "outputs": [],
   "source": [
    "prop_data_validation = 0.2 #proportion of the data used to optimize mu \n",
    "nb_iter = 1 #number of repetitions to optimize mu "
   ]
  },
  {
   "cell_type": "markdown",
   "metadata": {},
   "source": [
    "## mDAE"
   ]
  },
  {
   "cell_type": "markdown",
   "metadata": {},
   "source": [
    "All the procedure to use the mDAE algorithm at its best is explained is the mDAE.ipynb notebook. "
   ]
  },
  {
   "cell_type": "code",
   "execution_count": 8,
   "metadata": {},
   "outputs": [],
   "source": [
    "#parameters for structure choice \n",
    "grid_mu = [0.05,0.1,0.2,0.3,0.4,0.5] #see in the article, mu is an hyper parameter optimized in the mDAE prodedure\n",
    "nb_mu = len(grid_mu)"
   ]
  },
  {
   "cell_type": "code",
   "execution_count": 9,
   "metadata": {},
   "outputs": [
    {
     "name": "stdout",
     "output_type": "stream",
     "text": [
      "mdae struct1 \n",
      "mdae struct2 \n",
      "mdae struct3 \n",
      "mdae struct4 \n",
      "mdae struct5 \n",
      "mdae struct6 \n"
     ]
    }
   ],
   "source": [
    "sensibility_struct(x, grid_mu, nb_iter,nb_rows,nb_col,nb_cases_na,ind_rows_na,ind_columns_na,list_no_na_col,prop_data_validation, epochs_mdae,batch_size,learning_rate)"
   ]
  },
  {
   "cell_type": "code",
   "execution_count": 10,
   "metadata": {},
   "outputs": [],
   "source": [
    "#loading \n",
    "methods_bis = [\"struct1\", \"struct2\", \"struct3\", \"struct4\", \"struct5\", \"struct6\"]\n",
    "dicto = {me : [] for me in methods_bis }\n",
    "\n",
    "for me in methods_bis : \n",
    "    dicto[me].append(torch.load(f\"data_boxplot_mdae_{me}.pt\"))"
   ]
  },
  {
   "cell_type": "code",
   "execution_count": 11,
   "metadata": {},
   "outputs": [],
   "source": [
    "#to compute the error between reconstruction and true values for each structure, we load true values \n",
    "data_boxplot_true= torch.zeros([nb_cases_na])\n",
    "data_boxplot_true[:] = X_true[ind_rows_na,ind_columns_na]"
   ]
  },
  {
   "cell_type": "code",
   "execution_count": 12,
   "metadata": {},
   "outputs": [],
   "source": [
    "dicto_height = {me : [None,None] for me in methods_bis }\n",
    "\n",
    "for me in methods_bis : \n",
    "    a = torch.zeros([1])\n",
    "    a[0] = (1/data_boxplot_true.shape[0])*(torch.abs(data_boxplot_true -  dicto[me][0]).sum())\n",
    "\n",
    "    dicto_height[me][0] = torch.mean(a)\n",
    "    dicto_height[me][1] = torch.std(a)\n",
    "  \n",
    "dicto_height = torch.tensor(list(dicto_height.values()))"
   ]
  },
  {
   "cell_type": "code",
   "execution_count": 13,
   "metadata": {},
   "outputs": [
    {
     "name": "stderr",
     "output_type": "stream",
     "text": [
      "/home/mdupuy/.local/lib/python3.8/site-packages/matplotlib/axes/_axes.py:1185: RuntimeWarning: All-NaN axis encountered\n",
      "  miny = np.nanmin(masked_verts[..., 1])\n",
      "/home/mdupuy/.local/lib/python3.8/site-packages/matplotlib/axes/_axes.py:1186: RuntimeWarning: All-NaN axis encountered\n",
      "  maxy = np.nanmax(masked_verts[..., 1])\n",
      "/home/mdupuy/.local/lib/python3.8/site-packages/matplotlib/cbook/__init__.py:1335: RuntimeWarning: invalid value encountered in cast\n",
      "  return np.asarray(x, float)\n"
     ]
    },
    {
     "data": {
      "image/png": "[encoded data removed]",
      "text/plain": [
       "<Figure size 640x480 with 1 Axes>"
      ]
     },
     "metadata": {},
     "output_type": "display_data"
    }
   ],
   "source": [
    "bars = [\"struct1\",\"struct2\",\"struct3\",\"struct4\",\"struct5\",\"struct6\"]\n",
    "y_pos = np.arange(len(bars))\n",
    "\n",
    "# Create bars\n",
    "plt.bar(y_pos, dicto_height[:,0], yerr=dicto_height[:,1], align='center', alpha=0.5, ecolor='black', capsize=10)\n",
    "\n",
    "# Add title and axis names\n",
    "plt.title(f'Mean MAE with {version_NA} on {name_data} dataset \\n for structure choice')\n",
    "plt.xlabel('methods')\n",
    "plt.ylabel('Mean MAE')\n",
    "\n",
    "plt.ylim(0,1)\n",
    "# Create names on the x-axis\n",
    "plt.xticks(y_pos, bars)\n",
    "\n",
    "# Show graphic\n",
    "plt.show()"
   ]
  },
  {
   "cell_type": "code",
   "execution_count": 14,
   "metadata": {},
   "outputs": [],
   "source": [
    "number_structure = 5"
   ]
  },
  {
   "cell_type": "code",
   "execution_count": 15,
   "metadata": {},
   "outputs": [],
   "source": [
    "#parameters for structure choice \n",
    "grid_mu = [0.05,0.1,0.2,0.3,0.4,0.5] #see in the article mu is an hyper parameter optimized in the mDAE prodedure\n",
    "nb_mu = len(grid_mu)"
   ]
  },
  {
   "cell_type": "code",
   "execution_count": 16,
   "metadata": {},
   "outputs": [],
   "source": [
    "x_imputed = mDAE(x, nb_col, nb_rows, nb_iter,prop_data_validation,list_no_na_col,ind_rows_na,ind_columns_na,epochs_mdae,batch_size,learning_rate, grid_mu,nb_cases_na,number_structure)"
   ]
  },
  {
   "cell_type": "markdown",
   "metadata": {},
   "source": [
    "## kNN "
   ]
  },
  {
   "cell_type": "code",
   "execution_count": 17,
   "metadata": {},
   "outputs": [],
   "source": [
    "# parameters used for knn \n",
    "grille_K = [5,10,15,20] #different k tested to get the best results with this method \n",
    "nb_K = len(grille_K)"
   ]
  },
  {
   "cell_type": "code",
   "execution_count": 18,
   "metadata": {},
   "outputs": [
    {
     "name": "stdout",
     "output_type": "stream",
     "text": [
      "5\n",
      "Imputing row 1/569 with 3 missing, elapsed time: 0.103\n",
      "Imputing row 101/569 with 6 missing, elapsed time: 0.109\n",
      "Imputing row 201/569 with 8 missing, elapsed time: 0.116\n",
      "Imputing row 301/569 with 5 missing, elapsed time: 0.121\n",
      "Imputing row 401/569 with 8 missing, elapsed time: 0.127\n",
      "Imputing row 501/569 with 9 missing, elapsed time: 0.133\n",
      "10\n",
      "Imputing row 1/569 with 3 missing, elapsed time: 0.095\n",
      "Imputing row 101/569 with 6 missing, elapsed time: 0.102\n",
      "Imputing row 201/569 with 8 missing, elapsed time: 0.109\n",
      "Imputing row 301/569 with 5 missing, elapsed time: 0.115\n",
      "Imputing row 401/569 with 8 missing, elapsed time: 0.121\n",
      "Imputing row 501/569 with 9 missing, elapsed time: 0.127\n",
      "15\n",
      "Imputing row 1/569 with 3 missing, elapsed time: 0.092\n",
      "Imputing row 101/569 with 6 missing, elapsed time: 0.098\n",
      "Imputing row 201/569 with 8 missing, elapsed time: 0.104\n",
      "Imputing row 301/569 with 5 missing, elapsed time: 0.110\n",
      "Imputing row 401/569 with 8 missing, elapsed time: 0.115\n",
      "Imputing row 501/569 with 9 missing, elapsed time: 0.121\n",
      "20\n",
      "Imputing row 1/569 with 3 missing, elapsed time: 0.094\n",
      "Imputing row 101/569 with 6 missing, elapsed time: 0.100\n",
      "Imputing row 201/569 with 8 missing, elapsed time: 0.107\n",
      "Imputing row 301/569 with 5 missing, elapsed time: 0.113\n",
      "Imputing row 401/569 with 8 missing, elapsed time: 0.118\n",
      "Imputing row 501/569 with 9 missing, elapsed time: 0.124\n",
      "Imputing row 1/569 with 3 missing, elapsed time: 0.091\n",
      "Imputing row 101/569 with 6 missing, elapsed time: 0.097\n",
      "Imputing row 201/569 with 8 missing, elapsed time: 0.103\n",
      "Imputing row 301/569 with 5 missing, elapsed time: 0.109\n",
      "Imputing row 401/569 with 8 missing, elapsed time: 0.114\n",
      "Imputing row 501/569 with 9 missing, elapsed time: 0.120\n"
     ]
    }
   ],
   "source": [
    "data_boxplot_knn = torch.zeros([nb_cases_na])\n",
    "\n",
    "tab_opti_K = torch.zeros([nb_iter,nb_K])\n",
    "v=0\n",
    "for k in grille_K : \n",
    "    print(k)\n",
    "    w=0\n",
    "    for d in range(nb_iter) : \n",
    "        #this function choose locations in x that are not NA (considered as the test locations), to do the validation\n",
    "        z_eval, nb_cases_naknn, ind_rows_eval, ind_columns_eval = corruption_zeros_data_nodouble_valid2(x,prop_data_validation, nb_col, nb_rows,ind_list=list_no_na_col)\n",
    "        z_withNA_eval = x_withNA.clone()\n",
    "        z_withNA_eval[ind_rows_eval,ind_columns_eval]= torch.nan \n",
    "\n",
    "        X_filled_knn = KNN(k=k).fit_transform(x_withNA.cpu())\n",
    "\n",
    "        #test error \n",
    "        mask = torch.zeros([nb_rows,nb_col], device=device)\n",
    "        mask[ind_rows_eval,ind_columns_eval]=1\n",
    "\n",
    "        masked_z = x*mask\n",
    "        masked_pred_eval = torch.from_numpy(X_filled_knn).to(device)*mask\n",
    "\n",
    "        num_test_error = torch.sum((masked_z-masked_pred_eval)**2)\n",
    "        den_test_error = torch.sum((masked_z)**2)\n",
    "\n",
    "        test_error = num_test_error/den_test_error\n",
    "        tab_opti_K[w,v] = test_error \n",
    "        w=w+1\n",
    "    \n",
    "    v=v+1 \n",
    "\n",
    "K_moyen = torch.mean(tab_opti_K,0)\n",
    "\n",
    "K_opti = grille_K[np.argmin(K_moyen.detach().cpu().numpy())]\n",
    "\n",
    "# Use 3 nearest rows which have a feature to fill in each row's missing features\n",
    "X_filled_knn = KNN(k=K_opti).fit_transform(x_withNA.cpu())\n",
    "\n",
    "\n",
    "# for each method the values imputed by the method are put in a tab to use for results after. The results are only computed on the values at the positions of missing data \n",
    "data_boxplot_knn[:] = torch.from_numpy(X_filled_knn[ind_rows_na.cpu(),ind_columns_na.cpu()])\n",
    "data_boxplot_knn = data_boxplot_knn.cpu().detach()"
   ]
  },
  {
   "cell_type": "markdown",
   "metadata": {},
   "source": [
    "## softImpute (si)"
   ]
  },
  {
   "cell_type": "code",
   "execution_count": 19,
   "metadata": {},
   "outputs": [],
   "source": [
    "data_boxplot_si = torch.zeros([nb_cases_na])\n",
    "\n",
    "x_miss = x_withNA.cpu().numpy()\n",
    "\n",
    "cv_error, grid_lambda = cv_softimpute(x_miss, grid_len=15)\n",
    "lbda = grid_lambda[np.argmin(cv_error)]\n",
    "soft_imp = softimpute((x_miss), lbda)[1]\n",
    "\n",
    "\n",
    "data_boxplot_si[:] = torch.from_numpy(soft_imp[ind_rows_na.cpu(),ind_columns_na.cpu()])\n",
    "data_boxplot_si = data_boxplot_si.cpu().detach()"
   ]
  },
  {
   "cell_type": "markdown",
   "metadata": {},
   "source": [
    "## Imputation with Chained Equations via Bayesian Regression (br) "
   ]
  },
  {
   "cell_type": "code",
   "execution_count": 20,
   "metadata": {},
   "outputs": [],
   "source": [
    "data_boxplot_ice = torch.zeros([nb_cases_na])\n",
    "\n",
    "ice_imp = IterativeImputer(random_state=0, max_iter=50).fit_transform(x_miss)\n",
    "\n",
    "data_boxplot_ice[:] = torch.from_numpy(ice_imp[ind_rows_na.cpu(),ind_columns_na.cpu()])\n",
    "data_boxplot_ice = data_boxplot_ice.cpu().detach()"
   ]
  },
  {
   "cell_type": "markdown",
   "metadata": {},
   "source": [
    "## Imputation with Chained Equations via Random Forest (rf)"
   ]
  },
  {
   "cell_type": "code",
   "execution_count": 21,
   "metadata": {},
   "outputs": [],
   "source": [
    "#parameters\n",
    "n_estimators = 15"
   ]
  },
  {
   "cell_type": "code",
   "execution_count": 22,
   "metadata": {},
   "outputs": [
    {
     "name": "stderr",
     "output_type": "stream",
     "text": [
      "/home/mdupuy/.local/lib/python3.8/site-packages/sklearn/impute/_iterative.py:796: ConvergenceWarning: [IterativeImputer] Early stopping criterion not reached.\n",
      "  warnings.warn(\n"
     ]
    }
   ],
   "source": [
    "data_boxplot_mf = torch.zeros([nb_cases_na])\n",
    "\n",
    "missforest = IterativeImputer(max_iter=5, estimator=ExtraTreesRegressor(n_estimators=n_estimators))\n",
    "missforest.fit(x_miss)\n",
    "xhat_mf = missforest.transform(x_miss)\n",
    "\n",
    "data_boxplot_mf[:] = torch.from_numpy(xhat_mf[ind_rows_na.cpu(),ind_columns_na.cpu()])\n",
    "data_boxplot_mf = data_boxplot_mf.cpu().detach()"
   ]
  },
  {
   "cell_type": "markdown",
   "metadata": {},
   "source": [
    "## GAIN"
   ]
  },
  {
   "cell_type": "code",
   "execution_count": 23,
   "metadata": {},
   "outputs": [],
   "source": [
    "gain_parameters = {'batch_size': batch_size,\n",
    "        'hint_rate': 0.9,\n",
    "        'alpha': 100,\n",
    "        'iterations': 10000}"
   ]
  },
  {
   "cell_type": "code",
   "execution_count": 24,
   "metadata": {},
   "outputs": [
    {
     "name": "stderr",
     "output_type": "stream",
     "text": [
      "2024-04-09 15:40:43.330965: I tensorflow/core/common_runtime/gpu/gpu_device.cc:1639] Created device /job:localhost/replica:0/task:0/device:GPU:0 with 43374 MB memory:  -> device: 0, name: NVIDIA A40, pci bus id: 0000:1a:00.0, compute capability: 8.6\n",
      "2024-04-09 15:40:43.333433: I tensorflow/core/common_runtime/gpu/gpu_device.cc:1639] Created device /job:localhost/replica:0/task:0/device:GPU:1 with 43490 MB memory:  -> device: 1, name: NVIDIA A40, pci bus id: 0000:1b:00.0, compute capability: 8.6\n",
      "2024-04-09 15:40:43.335919: I tensorflow/core/common_runtime/gpu/gpu_device.cc:1639] Created device /job:localhost/replica:0/task:0/device:GPU:2 with 46540 MB memory:  -> device: 2, name: NVIDIA A40, pci bus id: 0000:60:00.0, compute capability: 8.6\n",
      "2024-04-09 15:40:43.338247: I tensorflow/core/common_runtime/gpu/gpu_device.cc:1639] Created device /job:localhost/replica:0/task:0/device:GPU:3 with 43490 MB memory:  -> device: 3, name: NVIDIA A40, pci bus id: 0000:61:00.0, compute capability: 8.6\n",
      "2024-04-09 15:40:43.340200: I tensorflow/core/common_runtime/gpu/gpu_device.cc:1639] Created device /job:localhost/replica:0/task:0/device:GPU:4 with 43490 MB memory:  -> device: 4, name: NVIDIA A40, pci bus id: 0000:b1:00.0, compute capability: 8.6\n",
      "2024-04-09 15:40:43.342345: I tensorflow/core/common_runtime/gpu/gpu_device.cc:1639] Created device /job:localhost/replica:0/task:0/device:GPU:5 with 43490 MB memory:  -> device: 5, name: NVIDIA A40, pci bus id: 0000:b2:00.0, compute capability: 8.6\n",
      "2024-04-09 15:40:43.344374: I tensorflow/core/common_runtime/gpu/gpu_device.cc:1639] Created device /job:localhost/replica:0/task:0/device:GPU:6 with 43490 MB memory:  -> device: 6, name: NVIDIA A40, pci bus id: 0000:da:00.0, compute capability: 8.6\n",
      "2024-04-09 15:40:43.347303: I tensorflow/core/common_runtime/gpu/gpu_device.cc:1639] Created device /job:localhost/replica:0/task:0/device:GPU:7 with 34701 MB memory:  -> device: 7, name: NVIDIA A40, pci bus id: 0000:db:00.0, compute capability: 8.6\n",
      "2024-04-09 15:40:43.357738: I tensorflow/compiler/mlir/mlir_graph_optimization_pass.cc:375] MLIR V1 optimization pass is not enabled\n",
      "  0%|          | 0/10000 [00:00<?, ?it/s]2024-04-09 15:40:44.366191: I tensorflow/compiler/xla/stream_executor/cuda/cuda_blas.cc:606] TensorFloat-32 will be used for the matrix multiplication. This will only be logged once.\n",
      "100%|██████████| 10000/10000 [00:54<00:00, 183.87it/s]\n"
     ]
    }
   ],
   "source": [
    "data_boxplot_gain = torch.zeros([nb_cases_na]) \n",
    "\n",
    "imputed_data_x = gain(x_miss, gain_parameters) \n",
    "\n",
    "data_boxplot_gain[:] = torch.from_numpy(imputed_data_x[ind_rows_na.cpu(),ind_columns_na.cpu()])\n",
    "data_boxplot_gain = data_boxplot_gain.cpu().detach()"
   ]
  },
  {
   "cell_type": "markdown",
   "metadata": {},
   "source": [
    "## MIWAE"
   ]
  },
  {
   "cell_type": "code",
   "execution_count": 25,
   "metadata": {},
   "outputs": [],
   "source": [
    "h = 128 # number of hidden units in (same for all MLPs)\n",
    "d = 1 # dimension of the latent space\n",
    "K = 20 # number of IS during training\n",
    "bs = batch_size # batch size\n",
    "n_epochs = epochs_mdae"
   ]
  },
  {
   "cell_type": "code",
   "execution_count": 26,
   "metadata": {},
   "outputs": [
    {
     "name": "stdout",
     "output_type": "stream",
     "text": [
      "Epoch 1\n",
      "MIWAE likelihood bound  -32.7578\n",
      "-----\n",
      "Epoch 101\n",
      "MIWAE likelihood bound  -19.8833\n",
      "-----\n",
      "Epoch 201\n",
      "MIWAE likelihood bound  -17.8307\n",
      "-----\n",
      "Epoch 301\n",
      "MIWAE likelihood bound  -17.0763\n",
      "-----\n",
      "Epoch 401\n",
      "MIWAE likelihood bound  -16.5838\n",
      "-----\n",
      "Epoch 501\n",
      "MIWAE likelihood bound  -16.2767\n",
      "-----\n",
      "Epoch 601\n",
      "MIWAE likelihood bound  -16.1972\n",
      "-----\n",
      "Epoch 701\n",
      "MIWAE likelihood bound  -16.6603\n",
      "-----\n",
      "Epoch 801\n",
      "MIWAE likelihood bound  -15.7917\n",
      "-----\n",
      "Epoch 901\n",
      "MIWAE likelihood bound  -15.8116\n",
      "-----\n"
     ]
    }
   ],
   "source": [
    "data_boxplot_miwae = torch.zeros([nb_cases_na]) \n",
    "\n",
    "xhat = miwae(x_withNA,x,h,d,K,bs,n_epochs)\n",
    "\n",
    "data_boxplot_miwae[:] = torch.from_numpy(xhat[ind_rows_na.cpu(),ind_columns_na.cpu()])\n",
    "data_boxplot_miwae = data_boxplot_miwae.cpu().detach()"
   ]
  },
  {
   "cell_type": "markdown",
   "metadata": {},
   "source": [
    "## Sinkhorn imputation - Algorithm 1 (ot)"
   ]
  },
  {
   "cell_type": "code",
   "execution_count": 27,
   "metadata": {},
   "outputs": [],
   "source": [
    "n, d = x_withNA.shape\n",
    "batchsize = batch_size   #128 # If the batch size is larger than half the dataset's size,\n",
    "                # it will be redefined in the imputation methods.\n",
    "lr = learning_rate\n",
    "epsilon = pick_epsilon(x_withNA) # Set the regularization parameter as a multiple of the median distance, as per the paper."
   ]
  },
  {
   "cell_type": "code",
   "execution_count": 28,
   "metadata": {},
   "outputs": [],
   "source": [
    "data_boxplot_ot = torch.zeros([nb_cases_na])  \n",
    "\n",
    "sk_imputer = OTimputer(eps=epsilon, batchsize=batchsize, lr=lr, niter=2000)\n",
    "\n",
    "sk_imp, sk_maes, sk_rmses = sk_imputer.fit_transform(x_withNA.cpu().double(), verbose=True, report_interval=500, X_true=X_true.cpu().double())\n",
    "\n",
    "\n",
    "data_boxplot_ot[:] = sk_imp[ind_rows_na.cpu(),ind_columns_na.cpu()]\n",
    "data_boxplot_ot = data_boxplot_ot.cpu().detach()"
   ]
  },
  {
   "cell_type": "markdown",
   "metadata": {},
   "source": [
    "## TDM"
   ]
  },
  {
   "cell_type": "code",
   "execution_count": 29,
   "metadata": {},
   "outputs": [],
   "source": [
    "####### TDM ######\n",
    "\n",
    "niter = 2000\n",
    "batchsize = batch_size\n",
    "lr = learning_rate\n",
    "report_interval = 100\n",
    "network_depth = 3\n",
    "network_width = 3"
   ]
  },
  {
   "cell_type": "code",
   "execution_count": 30,
   "metadata": {},
   "outputs": [],
   "source": [
    "data_boxplot_tdm = torch.zeros([nb_cases_na]) \n",
    "\n",
    "args = {'out_dir': name_data, 'niter': niter,\n",
    "'batchsize': batchsize, 'lr': lr, 'network_width': network_width, 'network_depth': network_depth, 'report_interval': report_interval}\n",
    "\n",
    "\n",
    "tdm = run_TDM(x_withNA, args, X_true)\n",
    "\n",
    "data_boxplot_tdm[:] = tdm[ind_rows_na.cpu(),ind_columns_na.cpu()]\n",
    "data_boxplot_tdm = data_boxplot_tdm.cpu().detach()"
   ]
  },
  {
   "cell_type": "markdown",
   "metadata": {},
   "source": [
    "## Comparison plots "
   ]
  },
  {
   "cell_type": "code",
   "execution_count": 31,
   "metadata": {},
   "outputs": [],
   "source": [
    "#save all the data with the imputed values to plot the loss \n",
    "torch.save(data_boxplot_knn,f\"data_boxplot_knn_{version_NA}_{name_data}_{m}.pt\")\n",
    "torch.save(data_boxplot_miwae,f\"data_boxplot_miwae_{version_NA}_{name_data}_{m}.pt\")\n",
    "torch.save(data_boxplot_mf,f\"data_boxplot_mf_{version_NA}_{name_data}_{m}.pt\")\n",
    "torch.save(data_boxplot_ot,f\"data_boxplot_ot_{version_NA}_{name_data}_{m}.pt\")\n",
    "torch.save(data_boxplot_ice,f\"data_boxplot_ice_{version_NA}_{name_data}_{m}.pt\")\n",
    "torch.save(data_boxplot_si,f\"data_boxplot_si_{version_NA}_{name_data}_{m}.pt\")\n",
    "torch.save(data_boxplot_tdm,f\"data_boxplot_tdm_{version_NA}_{name_data}_{m}.pt\")\n",
    "torch.save(data_boxplot_gain,f\"data_boxplot_gain_{version_NA}_{name_data}_{m}.pt\")\n",
    "\n",
    "torch.save(data_boxplot_true,f\"data_boxplot_true_{version_NA}_{name_data}_{m}.pt\")"
   ]
  },
  {
   "cell_type": "code",
   "execution_count": 36,
   "metadata": {},
   "outputs": [],
   "source": [
    "methods = [\"true\",\"mdae\", \"knn\",\"si\",\"ice\",\"mf\", \"gain\", \"miwae\",\"ot\",\"tdm\",]"
   ]
  },
  {
   "cell_type": "code",
   "execution_count": 40,
   "metadata": {},
   "outputs": [],
   "source": [
    "dicto = {me : [] for me in methods } \n",
    "methods_bis =[\"true\", \"knn\",\"si\",\"ice\",\"mf\", \"gain\", \"miwae\",\"ot\",\"tdm\",] \n",
    "\n",
    "\n",
    "for me in methods_bis : \n",
    "    dicto[me].append(torch.load(f\"data_boxplot_{me}_{version_NA}_{name_data}_{m}.pt\"))\n",
    "\n",
    "dicto[\"mdae\"].append(torch.load(\"NA_reconstructed_from_mDAE.pt\"))\n"
   ]
  },
  {
   "cell_type": "code",
   "execution_count": 41,
   "metadata": {},
   "outputs": [],
   "source": [
    "dicto_height_graph = {me : [None,None] for me in methods } \n",
    "\n",
    "for me in methods : \n",
    "    a = torch.zeros([1])\n",
    "    a[0] = (1/dicto['true'][0].shape[0])*(torch.abs(dicto['true'][0] -  dicto[me][0] ).sum())\n",
    "\n",
    "    dicto_height_graph[me][0] = torch.mean(a)\n",
    "    dicto_height_graph[me][1] = torch.std(a)\n",
    "\n",
    "dicto_height = torch.tensor(list(dicto_height_graph.values())[1:])"
   ]
  },
  {
   "cell_type": "code",
   "execution_count": 43,
   "metadata": {},
   "outputs": [
    {
     "data": {
      "image/png": "[encoded data removed]",
      "text/plain": [
       "<Figure size 640x480 with 1 Axes>"
      ]
     },
     "metadata": {},
     "output_type": "display_data"
    }
   ],
   "source": [
    "bars = [\"mdae\", \"knn\",\"si\",\"br\",\"rf\", \"gain\", \"miwae\",\"ot\",\"tdm\",]\n",
    "\n",
    "y_pos = np.arange(len(bars))\n",
    "\n",
    "# Create bars\n",
    "plt.bar(y_pos, dicto_height[:,0], yerr=dicto_height[:,1], align='center', alpha=0.5, ecolor='black', capsize=10)\n",
    "\n",
    "# Add title and axis names\n",
    "plt.title(f'Mean MAE with {version_NA} on {name_data} dataset')\n",
    "plt.xlabel('methods')\n",
    "plt.ylabel('Mean MAE')\n",
    "\n",
    "#plt.ylim(0,1)\n",
    "# Create names on the x-axis\n",
    "plt.xticks(y_pos, bars)\n",
    "\n",
    "# Show graphic\n",
    "plt.show()"
   ]
  }
 ],
 "metadata": {
  "kernelspec": {
   "display_name": "Python 3",
   "language": "python",
   "name": "python3"
  },
  "language_info": {
   "codemirror_mode": {
    "name": "ipython",
    "version": 3
   },
   "file_extension": ".py",
   "mimetype": "text/x-python",
   "name": "python",
   "nbconvert_exporter": "python",
   "pygments_lexer": "ipython3",
   "version": "3.8.10"
  }
 },
 "nbformat": 4,
 "nbformat_minor": 2
}
